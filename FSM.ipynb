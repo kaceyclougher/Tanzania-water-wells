{
 "cells": [
  {
   "cell_type": "markdown",
   "metadata": {},
   "source": [
    "# FSM for Tanzania Water Well Project"
   ]
  },
  {
   "cell_type": "code",
   "execution_count": 1,
   "metadata": {},
   "outputs": [],
   "source": [
    "#imports\n",
    "import numpy as np\n",
    "import pandas as pd\n",
    "import matplotlib.pyplot as plt\n",
    "%matplotlib inline\n",
    "import seaborn as sns\n",
    "sns.set_style('whitegrid')\n",
    "\n",
    "from sklearn.preprocessing import StandardScaler\n",
    "from sklearn.linear_model import LogisticRegression\n",
    "from sklearn.impute import SimpleImputer\n",
    "from sklearn.pipeline import Pipeline\n",
    "from sklearn.compose import ColumnTransformer\n",
    "from sklearn.preprocessing import OneHotEncoder\n",
    "from sklearn.dummy import DummyRegressor, DummyClassifier\n",
    "from sklearn.model_selection import train_test_split, GridSearchCV, cross_validate\n",
    "from sklearn.metrics import plot_confusion_matrix, recall_score,\\\n",
    "    accuracy_score, precision_score, f1_score\n",
    "\n",
    "from imblearn.pipeline import Pipeline as ImPipeline\n",
    "\n"
   ]
  },
  {
   "cell_type": "code",
   "execution_count": 2,
   "metadata": {},
   "outputs": [],
   "source": [
    "# data\n",
    "tanzania = pd.read_csv('final_df.csv')"
   ]
  },
  {
   "cell_type": "code",
   "execution_count": 3,
   "metadata": {
    "scrolled": false
   },
   "outputs": [],
   "source": [
    "tanzania_with_dates = tanzania.copy()"
   ]
  },
  {
   "cell_type": "code",
   "execution_count": 4,
   "metadata": {},
   "outputs": [],
   "source": [
    "#drop construction year and data column\n",
    "tanzania.drop(['construction_year'], axis = 1, inplace = True)\n",
    "tanzania.drop(['date_recorded'], axis = 1, inplace = True)"
   ]
  },
  {
   "cell_type": "code",
   "execution_count": 5,
   "metadata": {},
   "outputs": [
    {
     "data": {
      "text/plain": [
       "functional                 32259\n",
       "non functional             22824\n",
       "functional needs repair     4317\n",
       "Name: status_group, dtype: int64"
      ]
     },
     "execution_count": 5,
     "metadata": {},
     "output_type": "execute_result"
    }
   ],
   "source": [
    "#check out data\n",
    "tanzania['status_group'].value_counts()"
   ]
  },
  {
   "cell_type": "code",
   "execution_count": 6,
   "metadata": {},
   "outputs": [],
   "source": [
    "# create fxn to tranform booleans to 0 and 1s\n",
    "#def bool_transform(col):\n",
    "#    tanzania[col] = tanzania[col].map({True : \"1\" , False  :\"0\"})\n",
    "#    return tanzania[col].value_counts()"
   ]
  },
  {
   "cell_type": "code",
   "execution_count": 7,
   "metadata": {},
   "outputs": [],
   "source": [
    "# transform public_meeting and permit\n",
    "\n",
    "#bool_transform('permit')"
   ]
  },
  {
   "cell_type": "code",
   "execution_count": 8,
   "metadata": {},
   "outputs": [],
   "source": [
    "# data organize for model\n",
    "X = tanzania.drop([\"status_group\"], axis = 1)\n",
    "y = tanzania['status_group'] # target"
   ]
  },
  {
   "cell_type": "code",
   "execution_count": 9,
   "metadata": {},
   "outputs": [],
   "source": [
    "#train test split\n",
    "X_train, X_test, y_train, y_test = train_test_split(X, y, random_state = 42)"
   ]
  },
  {
   "cell_type": "code",
   "execution_count": 10,
   "metadata": {},
   "outputs": [
    {
     "name": "stdout",
     "output_type": "stream",
     "text": [
      "<class 'pandas.core.frame.DataFrame'>\n",
      "RangeIndex: 59400 entries, 0 to 59399\n",
      "Data columns (total 16 columns):\n",
      " #   Column                 Non-Null Count  Dtype  \n",
      "---  ------                 --------------  -----  \n",
      " 0   amount_tsh             59400 non-null  float64\n",
      " 1   basin                  59400 non-null  object \n",
      " 2   subvillage             59400 non-null  object \n",
      " 3   region                 59400 non-null  object \n",
      " 4   population             59400 non-null  int64  \n",
      " 5   public_meeting         59400 non-null  object \n",
      " 6   permit                 59400 non-null  object \n",
      " 7   extraction_type_class  59400 non-null  object \n",
      " 8   management             59400 non-null  object \n",
      " 9   payment_type           59400 non-null  object \n",
      " 10  quality_group          59400 non-null  object \n",
      " 11  quantity               59400 non-null  object \n",
      " 12  source                 59400 non-null  object \n",
      " 13  waterpoint_type        59400 non-null  object \n",
      " 14  status_group           59400 non-null  object \n",
      " 15  Age                    59400 non-null  int64  \n",
      "dtypes: float64(1), int64(2), object(13)\n",
      "memory usage: 7.3+ MB\n"
     ]
    }
   ],
   "source": [
    "\n",
    "tanzania.info()"
   ]
  },
  {
   "cell_type": "code",
   "execution_count": 11,
   "metadata": {},
   "outputs": [],
   "source": [
    "#Turn all numeric cols to int\n",
    "\n",
    "#numeric = tanzania.select_dtypes(include=['float64', 'int64']).columns\n",
    "\n",
    "# Convert numerical columns to float type\n",
    "#tanzania[numeric] = tanzania[numeric].astype('Int64')\n",
    "\n",
    "\n",
    "#change just that one column\n",
    "tanzania['amount_tsh'] = tanzania['amount_tsh'].fillna(0).astype(int)"
   ]
  },
  {
   "cell_type": "code",
   "execution_count": 33,
   "metadata": {},
   "outputs": [
    {
     "data": {
      "text/html": [
       "<div>\n",
       "<style scoped>\n",
       "    .dataframe tbody tr th:only-of-type {\n",
       "        vertical-align: middle;\n",
       "    }\n",
       "\n",
       "    .dataframe tbody tr th {\n",
       "        vertical-align: top;\n",
       "    }\n",
       "\n",
       "    .dataframe thead th {\n",
       "        text-align: right;\n",
       "    }\n",
       "</style>\n",
       "<table border=\"1\" class=\"dataframe\">\n",
       "  <thead>\n",
       "    <tr style=\"text-align: right;\">\n",
       "      <th></th>\n",
       "      <th>amount_tsh</th>\n",
       "      <th>basin</th>\n",
       "      <th>subvillage</th>\n",
       "      <th>region</th>\n",
       "      <th>population</th>\n",
       "      <th>public_meeting</th>\n",
       "      <th>permit</th>\n",
       "      <th>extraction_type_class</th>\n",
       "      <th>management</th>\n",
       "      <th>payment_type</th>\n",
       "      <th>quality_group</th>\n",
       "      <th>quantity</th>\n",
       "      <th>source</th>\n",
       "      <th>waterpoint_type</th>\n",
       "      <th>status_group</th>\n",
       "      <th>Age</th>\n",
       "    </tr>\n",
       "  </thead>\n",
       "  <tbody>\n",
       "  </tbody>\n",
       "</table>\n",
       "</div>"
      ],
      "text/plain": [
       "Empty DataFrame\n",
       "Columns: [amount_tsh, basin, subvillage, region, population, public_meeting, permit, extraction_type_class, management, payment_type, quality_group, quantity, source, waterpoint_type, status_group, Age]\n",
       "Index: []"
      ]
     },
     "execution_count": 33,
     "metadata": {},
     "output_type": "execute_result"
    }
   ],
   "source": [
    "problem = tanzania[tanzania['amount_tsh'] == 'Wami / Ruvu']\n",
    "problem"
   ]
  },
  {
   "cell_type": "code",
   "execution_count": 34,
   "metadata": {},
   "outputs": [
    {
     "data": {
      "text/html": [
       "<div>\n",
       "<style scoped>\n",
       "    .dataframe tbody tr th:only-of-type {\n",
       "        vertical-align: middle;\n",
       "    }\n",
       "\n",
       "    .dataframe tbody tr th {\n",
       "        vertical-align: top;\n",
       "    }\n",
       "\n",
       "    .dataframe thead th {\n",
       "        text-align: right;\n",
       "    }\n",
       "</style>\n",
       "<table border=\"1\" class=\"dataframe\">\n",
       "  <thead>\n",
       "    <tr style=\"text-align: right;\">\n",
       "      <th></th>\n",
       "      <th>amount_tsh</th>\n",
       "      <th>basin</th>\n",
       "      <th>subvillage</th>\n",
       "      <th>region</th>\n",
       "      <th>population</th>\n",
       "      <th>public_meeting</th>\n",
       "      <th>permit</th>\n",
       "      <th>extraction_type_class</th>\n",
       "      <th>management</th>\n",
       "      <th>payment_type</th>\n",
       "      <th>quality_group</th>\n",
       "      <th>quantity</th>\n",
       "      <th>source</th>\n",
       "      <th>waterpoint_type</th>\n",
       "      <th>status_group</th>\n",
       "      <th>Age</th>\n",
       "    </tr>\n",
       "  </thead>\n",
       "  <tbody>\n",
       "  </tbody>\n",
       "</table>\n",
       "</div>"
      ],
      "text/plain": [
       "Empty DataFrame\n",
       "Columns: [amount_tsh, basin, subvillage, region, population, public_meeting, permit, extraction_type_class, management, payment_type, quality_group, quantity, source, waterpoint_type, status_group, Age]\n",
       "Index: []"
      ]
     },
     "execution_count": 34,
     "metadata": {},
     "output_type": "execute_result"
    }
   ],
   "source": [
    "problem1 = tanzania[tanzania['population'] == 'Wami / Ruvu']\n",
    "problem1"
   ]
  },
  {
   "cell_type": "code",
   "execution_count": 35,
   "metadata": {},
   "outputs": [
    {
     "data": {
      "text/html": [
       "<div>\n",
       "<style scoped>\n",
       "    .dataframe tbody tr th:only-of-type {\n",
       "        vertical-align: middle;\n",
       "    }\n",
       "\n",
       "    .dataframe tbody tr th {\n",
       "        vertical-align: top;\n",
       "    }\n",
       "\n",
       "    .dataframe thead th {\n",
       "        text-align: right;\n",
       "    }\n",
       "</style>\n",
       "<table border=\"1\" class=\"dataframe\">\n",
       "  <thead>\n",
       "    <tr style=\"text-align: right;\">\n",
       "      <th></th>\n",
       "      <th>amount_tsh</th>\n",
       "      <th>basin</th>\n",
       "      <th>subvillage</th>\n",
       "      <th>region</th>\n",
       "      <th>population</th>\n",
       "      <th>public_meeting</th>\n",
       "      <th>permit</th>\n",
       "      <th>extraction_type_class</th>\n",
       "      <th>management</th>\n",
       "      <th>payment_type</th>\n",
       "      <th>quality_group</th>\n",
       "      <th>quantity</th>\n",
       "      <th>source</th>\n",
       "      <th>waterpoint_type</th>\n",
       "      <th>status_group</th>\n",
       "      <th>Age</th>\n",
       "    </tr>\n",
       "  </thead>\n",
       "  <tbody>\n",
       "  </tbody>\n",
       "</table>\n",
       "</div>"
      ],
      "text/plain": [
       "Empty DataFrame\n",
       "Columns: [amount_tsh, basin, subvillage, region, population, public_meeting, permit, extraction_type_class, management, payment_type, quality_group, quantity, source, waterpoint_type, status_group, Age]\n",
       "Index: []"
      ]
     },
     "execution_count": 35,
     "metadata": {},
     "output_type": "execute_result"
    }
   ],
   "source": [
    "problem2 = tanzania[tanzania['Age'] == 'Wami / Ruvu']\n",
    "problem2"
   ]
  },
  {
   "cell_type": "code",
   "execution_count": 49,
   "metadata": {},
   "outputs": [],
   "source": [
    "# pipelines for numerical and categorical data\n",
    "\n",
    "num_pipe = Pipeline(steps = [\n",
    "    \n",
    "    ('num_impute', SimpleImputer()), \n",
    "    ('ss', StandardScaler())\n",
    "\n",
    "])\n",
    "\n",
    "\n",
    "cat_pipe = Pipeline(steps = [\n",
    "    \n",
    "    ('cat_impute', SimpleImputer(strategy = 'most_frequent')),\n",
    "    ('ohe', OneHotEncoder(sparse = False, handle_unknown = 'ignore')) #ohe for categorical\n",
    "\n",
    "]) #strategy = 'most_frequent', fill_value = 0"
   ]
  },
  {
   "cell_type": "code",
   "execution_count": 50,
   "metadata": {
    "scrolled": true
   },
   "outputs": [
    {
     "name": "stdout",
     "output_type": "stream",
     "text": [
      "<class 'pandas.core.frame.DataFrame'>\n",
      "RangeIndex: 59400 entries, 0 to 59399\n",
      "Data columns (total 16 columns):\n",
      " #   Column                 Non-Null Count  Dtype \n",
      "---  ------                 --------------  ----- \n",
      " 0   amount_tsh             59400 non-null  int64 \n",
      " 1   basin                  59400 non-null  object\n",
      " 2   subvillage             59400 non-null  object\n",
      " 3   region                 59400 non-null  object\n",
      " 4   population             59400 non-null  int64 \n",
      " 5   public_meeting         59400 non-null  object\n",
      " 6   permit                 59400 non-null  object\n",
      " 7   extraction_type_class  59400 non-null  object\n",
      " 8   management             59400 non-null  object\n",
      " 9   payment_type           59400 non-null  object\n",
      " 10  quality_group          59400 non-null  object\n",
      " 11  quantity               59400 non-null  object\n",
      " 12  source                 59400 non-null  object\n",
      " 13  waterpoint_type        59400 non-null  object\n",
      " 14  status_group           59400 non-null  object\n",
      " 15  Age                    59400 non-null  int64 \n",
      "dtypes: int64(3), object(13)\n",
      "memory usage: 7.3+ MB\n"
     ]
    }
   ],
   "source": [
    "tanzania.info()"
   ]
  },
  {
   "cell_type": "code",
   "execution_count": null,
   "metadata": {},
   "outputs": [],
   "source": []
  },
  {
   "cell_type": "code",
   "execution_count": 51,
   "metadata": {},
   "outputs": [],
   "source": [
    "# find index with col\\\n",
    "\n",
    "num_cols = ['amount_tsh', 'population', 'Age']\n",
    "cat_cols = ['basin', 'subvillage',\n",
    "                     'region', 'public_meeting', 'permit',\n",
    "                    'extraction_type_class', 'management', 'payment_type', \n",
    "                    'quality_group', 'quantity', \n",
    "                    'source', 'waterpoint_type']"
   ]
  },
  {
   "cell_type": "code",
   "execution_count": 52,
   "metadata": {},
   "outputs": [],
   "source": [
    "trial = tanzania[['amount_tsh', 'population', 'Age']]"
   ]
  },
  {
   "cell_type": "code",
   "execution_count": 53,
   "metadata": {},
   "outputs": [
    {
     "data": {
      "text/html": [
       "<div>\n",
       "<style scoped>\n",
       "    .dataframe tbody tr th:only-of-type {\n",
       "        vertical-align: middle;\n",
       "    }\n",
       "\n",
       "    .dataframe tbody tr th {\n",
       "        vertical-align: top;\n",
       "    }\n",
       "\n",
       "    .dataframe thead th {\n",
       "        text-align: right;\n",
       "    }\n",
       "</style>\n",
       "<table border=\"1\" class=\"dataframe\">\n",
       "  <thead>\n",
       "    <tr style=\"text-align: right;\">\n",
       "      <th></th>\n",
       "      <th>amount_tsh</th>\n",
       "      <th>population</th>\n",
       "      <th>Age</th>\n",
       "    </tr>\n",
       "  </thead>\n",
       "  <tbody>\n",
       "    <tr>\n",
       "      <th>0</th>\n",
       "      <td>6000</td>\n",
       "      <td>109</td>\n",
       "      <td>24</td>\n",
       "    </tr>\n",
       "    <tr>\n",
       "      <th>1</th>\n",
       "      <td>0</td>\n",
       "      <td>280</td>\n",
       "      <td>13</td>\n",
       "    </tr>\n",
       "    <tr>\n",
       "      <th>2</th>\n",
       "      <td>25</td>\n",
       "      <td>250</td>\n",
       "      <td>14</td>\n",
       "    </tr>\n",
       "    <tr>\n",
       "      <th>3</th>\n",
       "      <td>0</td>\n",
       "      <td>58</td>\n",
       "      <td>37</td>\n",
       "    </tr>\n",
       "    <tr>\n",
       "      <th>4</th>\n",
       "      <td>0</td>\n",
       "      <td>0</td>\n",
       "      <td>2023</td>\n",
       "    </tr>\n",
       "    <tr>\n",
       "      <th>...</th>\n",
       "      <td>...</td>\n",
       "      <td>...</td>\n",
       "      <td>...</td>\n",
       "    </tr>\n",
       "    <tr>\n",
       "      <th>59395</th>\n",
       "      <td>10</td>\n",
       "      <td>125</td>\n",
       "      <td>24</td>\n",
       "    </tr>\n",
       "    <tr>\n",
       "      <th>59396</th>\n",
       "      <td>4700</td>\n",
       "      <td>56</td>\n",
       "      <td>27</td>\n",
       "    </tr>\n",
       "    <tr>\n",
       "      <th>59397</th>\n",
       "      <td>0</td>\n",
       "      <td>0</td>\n",
       "      <td>2023</td>\n",
       "    </tr>\n",
       "    <tr>\n",
       "      <th>59398</th>\n",
       "      <td>0</td>\n",
       "      <td>0</td>\n",
       "      <td>2023</td>\n",
       "    </tr>\n",
       "    <tr>\n",
       "      <th>59399</th>\n",
       "      <td>0</td>\n",
       "      <td>150</td>\n",
       "      <td>21</td>\n",
       "    </tr>\n",
       "  </tbody>\n",
       "</table>\n",
       "<p>59400 rows × 3 columns</p>\n",
       "</div>"
      ],
      "text/plain": [
       "       amount_tsh  population   Age\n",
       "0            6000         109    24\n",
       "1               0         280    13\n",
       "2              25         250    14\n",
       "3               0          58    37\n",
       "4               0           0  2023\n",
       "...           ...         ...   ...\n",
       "59395          10         125    24\n",
       "59396        4700          56    27\n",
       "59397           0           0  2023\n",
       "59398           0           0  2023\n",
       "59399           0         150    21\n",
       "\n",
       "[59400 rows x 3 columns]"
      ]
     },
     "execution_count": 53,
     "metadata": {},
     "output_type": "execute_result"
    }
   ],
   "source": [
    "trial"
   ]
  },
  {
   "cell_type": "code",
   "execution_count": 54,
   "metadata": {},
   "outputs": [
    {
     "data": {
      "text/plain": [
       "0"
      ]
     },
     "execution_count": 54,
     "metadata": {},
     "output_type": "execute_result"
    }
   ],
   "source": [
    "wami_ruvu = trial.isin(['Wami / Ruvu']).any(axis=1).sum()\n",
    "wami_ruvu"
   ]
  },
  {
   "cell_type": "code",
   "execution_count": 55,
   "metadata": {},
   "outputs": [],
   "source": [
    "#column transformers\n",
    "CT = ColumnTransformer(transformers = [('num_pipeline', num_pipe, num_cols),\n",
    "                                       ('cat_pipeline', cat_pipe, cat_cols)])"
   ]
  },
  {
   "cell_type": "code",
   "execution_count": 56,
   "metadata": {},
   "outputs": [],
   "source": [
    "#evaluate model fxn\n",
    "def eval(model, X_train, y_train, X_test, y_test):\n",
    "    print(f\"\"\"\n",
    "    train accuracy score: {round(accuracy_score(y_train, model.predict(X_train)),4)} \n",
    "    test accuracy score: {round(accuracy_score(y_test, model.predict(X_test)),4)}\n",
    "    \n",
    "    train precision score: {round(precision_score(y_train, model.predict(X_train), average= 'weighted'),4)}\n",
    "    test precision score: {round(precision_score(y_test, model.predict(X_test), average= 'weighted'),4)} \n",
    "    \n",
    "    train recall score: {round(recall_score(y_train, model.predict(X_train), average= 'weighted'),4)}\n",
    "    test recall score: {round(recall_score(y_test, model.predict(X_test), average= 'weighted'),4)} \n",
    "    \n",
    "    train F1 score: {round(f1_score(y_train, model.predict(X_train), average= 'weighted'),4)}\n",
    "    test F1 score: {round(f1_score(y_test, model.predict(X_test), average= 'weighted'),4)} \n",
    "    \n",
    "    Confusion Matrix:\"\"\")     \n",
    "    fig, ax = plt.subplots(figsize=(12, 12))\n",
    "    plot_confusion_matrix(model, X_test, y_test, normalize = 'true', display_labels = ['Functional',\n",
    "                                                                                       'Functional Needs Repair',\n",
    "                                                                                       'Non Functional'])"
   ]
  },
  {
   "cell_type": "markdown",
   "metadata": {},
   "source": [
    "## Dummy "
   ]
  },
  {
   "cell_type": "code",
   "execution_count": 57,
   "metadata": {},
   "outputs": [],
   "source": [
    "#dummy model\n",
    "dummy_pipe = Pipeline(steps=([\n",
    "    (\"ct\", CT), \n",
    "    (\"dc\", DummyClassifier())\n",
    "\n",
    "]))\n"
   ]
  },
  {
   "cell_type": "code",
   "execution_count": 58,
   "metadata": {
    "scrolled": false
   },
   "outputs": [
    {
     "name": "stderr",
     "output_type": "stream",
     "text": [
      "/Users/kaceyclougher/anaconda3/envs/learn-env/lib/python3.8/site-packages/sklearn/dummy.py:131: FutureWarning: The default value of strategy will change from stratified to prior in 0.24.\n",
      "  warnings.warn(\"The default value of strategy will change from \"\n"
     ]
    },
    {
     "data": {
      "text/plain": [
       "Pipeline(steps=[('ct',\n",
       "                 ColumnTransformer(transformers=[('num_pipeline',\n",
       "                                                  Pipeline(steps=[('num_impute',\n",
       "                                                                   SimpleImputer()),\n",
       "                                                                  ('ss',\n",
       "                                                                   StandardScaler())]),\n",
       "                                                  ['amount_tsh', 'population',\n",
       "                                                   'Age']),\n",
       "                                                 ('cat_pipeline',\n",
       "                                                  Pipeline(steps=[('cat_impute',\n",
       "                                                                   SimpleImputer(strategy='most_frequent')),\n",
       "                                                                  ('ohe',\n",
       "                                                                   OneHotEncoder(handle_unknown='ignore',\n",
       "                                                                                 sparse=False))]),\n",
       "                                                  ['basin', 'subvillage',\n",
       "                                                   'region', 'public_meeting',\n",
       "                                                   'permit',\n",
       "                                                   'extraction_type_class',\n",
       "                                                   'management', 'payment_type',\n",
       "                                                   'quality_group', 'quantity',\n",
       "                                                   'source',\n",
       "                                                   'waterpoint_type'])])),\n",
       "                ('dc', DummyClassifier())])"
      ]
     },
     "execution_count": 58,
     "metadata": {},
     "output_type": "execute_result"
    }
   ],
   "source": [
    "dummy_pipe.fit(X_train, y_train)"
   ]
  },
  {
   "cell_type": "code",
   "execution_count": null,
   "metadata": {},
   "outputs": [],
   "source": []
  },
  {
   "cell_type": "code",
   "execution_count": null,
   "metadata": {},
   "outputs": [],
   "source": []
  }
 ],
 "metadata": {
  "kernelspec": {
   "display_name": "Python (learn-env)",
   "language": "python",
   "name": "learn-env"
  },
  "language_info": {
   "codemirror_mode": {
    "name": "ipython",
    "version": 3
   },
   "file_extension": ".py",
   "mimetype": "text/x-python",
   "name": "python",
   "nbconvert_exporter": "python",
   "pygments_lexer": "ipython3",
   "version": "3.8.5"
  }
 },
 "nbformat": 4,
 "nbformat_minor": 4
}
