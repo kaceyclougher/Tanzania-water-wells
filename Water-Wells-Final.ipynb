{
 "cells": [
  {
   "cell_type": "markdown",
   "metadata": {},
   "source": [
    "# Tanzania Water Wells Project"
   ]
  },
  {
   "cell_type": "markdown",
   "metadata": {},
   "source": [
    "## Imports\n",
    "\n",
    "### 1a. Imports\n",
    "\n",
    "### 1b. Copy Data\n",
    "\n",
    "## Models\n",
    "\n",
    "### 2. Data Organization and Functions\n",
    "\n",
    "### 3. Pipelines (Numerical/Categorical) and Column Transformer\n",
    "\n",
    "### 4a. Baseline (Dummy) Model\n",
    "\n",
    "### 4b. First Simple Model\n",
    "\n",
    "### 5. GridSearch - Choosing Hyperparameters\n",
    "\n",
    "### 6. Final Logistic Regression Model"
   ]
  },
  {
   "cell_type": "markdown",
   "metadata": {},
   "source": [
    "## Imports"
   ]
  },
  {
   "cell_type": "code",
   "execution_count": 43,
   "metadata": {},
   "outputs": [],
   "source": [
    "# imports\n",
    "import numpy as np\n",
    "import pandas as pd\n",
    "import matplotlib.pyplot as plt\n",
    "%matplotlib inline\n",
    "import seaborn as sns\n",
    "sns.set_style('whitegrid')\n",
    "\n",
    "from sklearn.preprocessing import StandardScaler, PolynomialFeatures\n",
    "from sklearn.linear_model import LogisticRegression\n",
    "from sklearn.impute import SimpleImputer\n",
    "from sklearn.pipeline import Pipeline\n",
    "from sklearn.compose import ColumnTransformer\n",
    "from sklearn.preprocessing import OneHotEncoder\n",
    "from sklearn.dummy import DummyRegressor, DummyClassifier\n",
    "from sklearn.model_selection import train_test_split, GridSearchCV, cross_validate\n",
    "from sklearn.metrics import plot_confusion_matrix, recall_score,\\\n",
    "    accuracy_score, precision_score, f1_score, log_loss\n",
    "\n",
    "\n",
    "from imblearn.pipeline import Pipeline as ImPipeline\n",
    "from imblearn.over_sampling import SMOTE"
   ]
  },
  {
   "cell_type": "code",
   "execution_count": 2,
   "metadata": {},
   "outputs": [],
   "source": [
    "# import data\n",
    "\n",
    "tanzania = pd.read_csv('data/final_df.csv')\n",
    "\n",
    "\n",
    "# copy data\n",
    "\n",
    "tanzania_with_dates = tanzania.copy()"
   ]
  },
  {
   "cell_type": "code",
   "execution_count": 3,
   "metadata": {},
   "outputs": [],
   "source": [
    "#drop construction year and data column\n",
    "\n",
    "tanzania.drop(['construction_year'], axis = 1, inplace = True)\n",
    "tanzania.drop(['date_recorded'], axis = 1, inplace = True)"
   ]
  },
  {
   "cell_type": "code",
   "execution_count": 4,
   "metadata": {
    "scrolled": true
   },
   "outputs": [],
   "source": [
    "## adjust numerical columns for modeling \n",
    "\n",
    "# change to int64\n",
    "tanzania['amount_tsh'] = tanzania['amount_tsh'].fillna(0).astype(int)\n"
   ]
  },
  {
   "cell_type": "code",
   "execution_count": 5,
   "metadata": {},
   "outputs": [
    {
     "name": "stderr",
     "output_type": "stream",
     "text": [
      "<ipython-input-5-bb4e9670bf4d>:3: SettingWithCopyWarning: \n",
      "A value is trying to be set on a copy of a slice from a DataFrame\n",
      "\n",
      "See the caveats in the documentation: https://pandas.pydata.org/pandas-docs/stable/user_guide/indexing.html#returning-a-view-versus-a-copy\n",
      "  tanzania['amount_tsh'][tanzania['amount_tsh'] == 0] = np.nan\n"
     ]
    }
   ],
   "source": [
    "# change empties (0's) to nan for model\n",
    "\n",
    "tanzania['amount_tsh'][tanzania['amount_tsh'] == 0] = np.nan"
   ]
  },
  {
   "cell_type": "code",
   "execution_count": 6,
   "metadata": {},
   "outputs": [
    {
     "name": "stdout",
     "output_type": "stream",
     "text": [
      "<class 'pandas.core.frame.DataFrame'>\n",
      "RangeIndex: 59400 entries, 0 to 59399\n",
      "Data columns (total 16 columns):\n",
      " #   Column                 Non-Null Count  Dtype  \n",
      "---  ------                 --------------  -----  \n",
      " 0   amount_tsh             17757 non-null  float64\n",
      " 1   basin                  59400 non-null  object \n",
      " 2   subvillage             59400 non-null  object \n",
      " 3   region                 59400 non-null  object \n",
      " 4   population             59400 non-null  int64  \n",
      " 5   public_meeting         59400 non-null  object \n",
      " 6   permit                 59400 non-null  object \n",
      " 7   extraction_type_class  59400 non-null  object \n",
      " 8   management             59400 non-null  object \n",
      " 9   payment_type           59400 non-null  object \n",
      " 10  quality_group          59400 non-null  object \n",
      " 11  quantity               59400 non-null  object \n",
      " 12  source                 59400 non-null  object \n",
      " 13  waterpoint_type        59400 non-null  object \n",
      " 14  status_group           59400 non-null  object \n",
      " 15  Age                    38691 non-null  float64\n",
      "dtypes: float64(2), int64(1), object(13)\n",
      "memory usage: 7.3+ MB\n"
     ]
    }
   ],
   "source": [
    "#check \n",
    "\n",
    "tanzania.info()"
   ]
  },
  {
   "cell_type": "code",
   "execution_count": null,
   "metadata": {},
   "outputs": [],
   "source": []
  },
  {
   "cell_type": "markdown",
   "metadata": {},
   "source": [
    "## Model"
   ]
  },
  {
   "cell_type": "markdown",
   "metadata": {},
   "source": [
    "### 2. Data Organization and Functions"
   ]
  },
  {
   "cell_type": "code",
   "execution_count": 7,
   "metadata": {},
   "outputs": [],
   "source": [
    "# data organize for model\n",
    "\n",
    "X = tanzania.drop([\"status_group\"], axis = 1)\n",
    "y = tanzania['status_group'] # target"
   ]
  },
  {
   "cell_type": "code",
   "execution_count": null,
   "metadata": {},
   "outputs": [],
   "source": []
  },
  {
   "cell_type": "code",
   "execution_count": 8,
   "metadata": {},
   "outputs": [],
   "source": [
    "#train test split\n",
    "\n",
    "X_train, X_test, y_train, y_test = train_test_split(X, y, random_state = 42)"
   ]
  },
  {
   "cell_type": "code",
   "execution_count": 9,
   "metadata": {},
   "outputs": [],
   "source": [
    "#evaluate model fxn\n",
    "\n",
    "def eval(model, X_train, y_train, X_test, y_test):\n",
    "    print(f\"\"\"\n",
    "    Train Accuracy Score: {round(accuracy_score(y_train, model.predict(X_train)), 4)} \n",
    "    Test Accuracy Score: {round(accuracy_score(y_test, model.predict(X_test)), 4)}\n",
    "    \n",
    "    Train Precision Score: {round(precision_score(y_train, model.predict(X_train), average='weighted'), 4)}\n",
    "    Test Precision Score: {round(precision_score(y_test, model.predict(X_test), average='weighted'), 4)} \n",
    "    \n",
    "    Train Recall Score: {round(recall_score(y_train, model.predict(X_train), average='weighted'), 4)}\n",
    "    Test Recall Score: {round(recall_score(y_test, model.predict(X_test), average='weighted'), 4)} \n",
    "    \n",
    "    Train F1 Score: {round(f1_score(y_train, model.predict(X_train), average='weighted'), 4)}\n",
    "    Test F1 Score: {round(f1_score(y_test, model.predict(X_test), average='weighted'), 4)} \n",
    "    \n",
    "    Confusion Matrix:\"\"\") \n",
    "\n",
    "    # Create a figure and axis\n",
    "    fig, ax = plt.subplots(figsize=(20, 12))\n",
    "\n",
    "    # Plot the confusion matrix\n",
    "    plot_confusion_matrix(model, X_test, y_test, normalize='true', \n",
    "                          display_labels=['Functional', 'Functional Needs Repair', 'Non Functional'], ax = ax,\n",
    "                         cmap = 'Blues')\n",
    "    \n",
    "    # Add labels and title\n",
    "    ax.set_xlabel('Predicted Label')\n",
    "    ax.set_ylabel('True Label')\n",
    "    ax.set_title('Confusion Matrix')\n",
    "\n",
    "    # Show the plot\n",
    "    plt.show()"
   ]
  },
  {
   "cell_type": "code",
   "execution_count": null,
   "metadata": {},
   "outputs": [],
   "source": []
  },
  {
   "cell_type": "markdown",
   "metadata": {},
   "source": [
    "### 3. Pipelines (Numerical/Categorical) and Column Transformer"
   ]
  },
  {
   "cell_type": "code",
   "execution_count": 10,
   "metadata": {},
   "outputs": [],
   "source": [
    "# pipelines for numerical and categorical data\n",
    "\n",
    "num_pipe = Pipeline(steps = [\n",
    "    \n",
    "    ('num_impute', SimpleImputer(strategy = 'most_frequent')), # justify this \n",
    "    ('ss', StandardScaler())\n",
    "\n",
    "])\n",
    "\n",
    "\n",
    "cat_pipe = Pipeline(steps = [\n",
    "    \n",
    "    ('cat_impute', SimpleImputer(strategy = 'most_frequent')),\n",
    "    ('ohe', OneHotEncoder(sparse = True, handle_unknown = 'ignore')) #ohe for categorical\n",
    "\n",
    "])"
   ]
  },
  {
   "cell_type": "code",
   "execution_count": 11,
   "metadata": {},
   "outputs": [],
   "source": [
    "# cols\n",
    "\n",
    "num_cols = ['amount_tsh', 'population', 'Age']\n",
    "cat_cols = ['basin', 'subvillage',\n",
    "                     'region', 'public_meeting', 'permit',\n",
    "                    'extraction_type_class', 'management', 'payment_type', \n",
    "                    'quality_group', 'quantity', \n",
    "                    'source', 'waterpoint_type']"
   ]
  },
  {
   "cell_type": "code",
   "execution_count": 12,
   "metadata": {},
   "outputs": [],
   "source": [
    "#column transformers\n",
    "\n",
    "CT = ColumnTransformer(transformers = [('num_pipeline', num_pipe, num_cols),\n",
    "                                       ('cat_pipeline', cat_pipe, cat_cols)])"
   ]
  },
  {
   "cell_type": "code",
   "execution_count": null,
   "metadata": {},
   "outputs": [],
   "source": []
  },
  {
   "cell_type": "markdown",
   "metadata": {},
   "source": [
    "### 4a. Baseline(Dummy) Model"
   ]
  },
  {
   "cell_type": "code",
   "execution_count": 13,
   "metadata": {},
   "outputs": [],
   "source": [
    "#dummy model\n",
    "\n",
    "dummy_pipe = Pipeline(steps=([\n",
    "    (\"ct\", CT), \n",
    "    (\"dc\", DummyClassifier())\n",
    "\n",
    "]))\n"
   ]
  },
  {
   "cell_type": "code",
   "execution_count": 14,
   "metadata": {},
   "outputs": [
    {
     "name": "stderr",
     "output_type": "stream",
     "text": [
      "/Users/kaceyclougher/anaconda3/envs/learn-env/lib/python3.8/site-packages/sklearn/dummy.py:131: FutureWarning: The default value of strategy will change from stratified to prior in 0.24.\n",
      "  warnings.warn(\"The default value of strategy will change from \"\n"
     ]
    },
    {
     "data": {
      "text/plain": [
       "Pipeline(steps=[('ct',\n",
       "                 ColumnTransformer(transformers=[('num_pipeline',\n",
       "                                                  Pipeline(steps=[('num_impute',\n",
       "                                                                   SimpleImputer(strategy='most_frequent')),\n",
       "                                                                  ('ss',\n",
       "                                                                   StandardScaler())]),\n",
       "                                                  ['amount_tsh', 'population',\n",
       "                                                   'Age']),\n",
       "                                                 ('cat_pipeline',\n",
       "                                                  Pipeline(steps=[('cat_impute',\n",
       "                                                                   SimpleImputer(strategy='most_frequent')),\n",
       "                                                                  ('ohe',\n",
       "                                                                   OneHotEncoder(handle_unknown='ignore'))]),\n",
       "                                                  ['basin', 'subvillage',\n",
       "                                                   'region', 'public_meeting',\n",
       "                                                   'permit',\n",
       "                                                   'extraction_type_class',\n",
       "                                                   'management', 'payment_type',\n",
       "                                                   'quality_group', 'quantity',\n",
       "                                                   'source',\n",
       "                                                   'waterpoint_type'])])),\n",
       "                ('dc', DummyClassifier())])"
      ]
     },
     "execution_count": 14,
     "metadata": {},
     "output_type": "execute_result"
    }
   ],
   "source": [
    "# fit \n",
    "\n",
    "dummy_pipe.fit(X_train, y_train)"
   ]
  },
  {
   "cell_type": "code",
   "execution_count": 15,
   "metadata": {},
   "outputs": [
    {
     "data": {
      "text/plain": [
       "0.44835016835016833"
      ]
     },
     "execution_count": 15,
     "metadata": {},
     "output_type": "execute_result"
    }
   ],
   "source": [
    "# score\n",
    "\n",
    "dummy_pipe.score(X_train, y_train)"
   ]
  },
  {
   "cell_type": "code",
   "execution_count": 16,
   "metadata": {},
   "outputs": [],
   "source": [
    "# ^ TRASH"
   ]
  },
  {
   "cell_type": "code",
   "execution_count": null,
   "metadata": {},
   "outputs": [],
   "source": []
  },
  {
   "cell_type": "markdown",
   "metadata": {},
   "source": [
    "### 4b. First Simple Model (Logistic Regression)"
   ]
  },
  {
   "cell_type": "code",
   "execution_count": 17,
   "metadata": {},
   "outputs": [],
   "source": [
    "# first model to check out\n",
    "\n",
    "log_reg_fsm = Pipeline([\n",
    "    \n",
    "    ('ct', CT), \n",
    "    ('log_reg', LogisticRegression())\n",
    "    \n",
    "    \n",
    "])"
   ]
  },
  {
   "cell_type": "code",
   "execution_count": 18,
   "metadata": {},
   "outputs": [
    {
     "name": "stderr",
     "output_type": "stream",
     "text": [
      "/Users/kaceyclougher/anaconda3/envs/learn-env/lib/python3.8/site-packages/sklearn/linear_model/_logistic.py:762: ConvergenceWarning: lbfgs failed to converge (status=1):\n",
      "STOP: TOTAL NO. of ITERATIONS REACHED LIMIT.\n",
      "\n",
      "Increase the number of iterations (max_iter) or scale the data as shown in:\n",
      "    https://scikit-learn.org/stable/modules/preprocessing.html\n",
      "Please also refer to the documentation for alternative solver options:\n",
      "    https://scikit-learn.org/stable/modules/linear_model.html#logistic-regression\n",
      "  n_iter_i = _check_optimize_result(\n"
     ]
    },
    {
     "data": {
      "text/plain": [
       "Pipeline(steps=[('ct',\n",
       "                 ColumnTransformer(transformers=[('num_pipeline',\n",
       "                                                  Pipeline(steps=[('num_impute',\n",
       "                                                                   SimpleImputer(strategy='most_frequent')),\n",
       "                                                                  ('ss',\n",
       "                                                                   StandardScaler())]),\n",
       "                                                  ['amount_tsh', 'population',\n",
       "                                                   'Age']),\n",
       "                                                 ('cat_pipeline',\n",
       "                                                  Pipeline(steps=[('cat_impute',\n",
       "                                                                   SimpleImputer(strategy='most_frequent')),\n",
       "                                                                  ('ohe',\n",
       "                                                                   OneHotEncoder(handle_unknown='ignore'))]),\n",
       "                                                  ['basin', 'subvillage',\n",
       "                                                   'region', 'public_meeting',\n",
       "                                                   'permit',\n",
       "                                                   'extraction_type_class',\n",
       "                                                   'management', 'payment_type',\n",
       "                                                   'quality_group', 'quantity',\n",
       "                                                   'source',\n",
       "                                                   'waterpoint_type'])])),\n",
       "                ('log_reg', LogisticRegression())])"
      ]
     },
     "execution_count": 18,
     "metadata": {},
     "output_type": "execute_result"
    }
   ],
   "source": [
    "#fit\n",
    "\n",
    "log_reg_fsm.fit(X_train, y_train)"
   ]
  },
  {
   "cell_type": "code",
   "execution_count": 19,
   "metadata": {},
   "outputs": [
    {
     "data": {
      "text/plain": [
       "0.8015263748597082"
      ]
     },
     "execution_count": 19,
     "metadata": {},
     "output_type": "execute_result"
    }
   ],
   "source": [
    "# score\n",
    "\n",
    "log_reg_fsm.score(X_train, y_train, )"
   ]
  },
  {
   "cell_type": "code",
   "execution_count": 20,
   "metadata": {},
   "outputs": [
    {
     "name": "stdout",
     "output_type": "stream",
     "text": [
      "\n",
      "    Train Accuracy Score: 0.8015 \n",
      "    Test Accuracy Score: 0.7479\n",
      "    \n",
      "    Train Precision Score: 0.8008\n",
      "    Test Precision Score: 0.737 \n",
      "    \n",
      "    Train Recall Score: 0.8015\n",
      "    Test Recall Score: 0.7479 \n",
      "    \n",
      "    Train F1 Score: 0.7857\n",
      "    Test F1 Score: 0.7288 \n",
      "    \n",
      "    Confusion Matrix:\n"
     ]
    },
    {
     "data": {
      "image/png": "[encoded data removed]",
      "text/plain": [
       "<Figure size 1440x864 with 2 Axes>"
      ]
     },
     "metadata": {},
     "output_type": "display_data"
    }
   ],
   "source": [
    "eval(log_reg_fsm, X_train, y_train, X_test, y_test)"
   ]
  },
  {
   "cell_type": "markdown",
   "metadata": {},
   "source": [
    "### 5. GridSearch"
   ]
  },
  {
   "cell_type": "code",
   "execution_count": 21,
   "metadata": {},
   "outputs": [
    {
     "data": {
      "text/plain": [
       "dict_keys(['memory', 'steps', 'verbose', 'ct', 'log_reg', 'ct__n_jobs', 'ct__remainder', 'ct__sparse_threshold', 'ct__transformer_weights', 'ct__transformers', 'ct__verbose', 'ct__num_pipeline', 'ct__cat_pipeline', 'ct__num_pipeline__memory', 'ct__num_pipeline__steps', 'ct__num_pipeline__verbose', 'ct__num_pipeline__num_impute', 'ct__num_pipeline__ss', 'ct__num_pipeline__num_impute__add_indicator', 'ct__num_pipeline__num_impute__copy', 'ct__num_pipeline__num_impute__fill_value', 'ct__num_pipeline__num_impute__missing_values', 'ct__num_pipeline__num_impute__strategy', 'ct__num_pipeline__num_impute__verbose', 'ct__num_pipeline__ss__copy', 'ct__num_pipeline__ss__with_mean', 'ct__num_pipeline__ss__with_std', 'ct__cat_pipeline__memory', 'ct__cat_pipeline__steps', 'ct__cat_pipeline__verbose', 'ct__cat_pipeline__cat_impute', 'ct__cat_pipeline__ohe', 'ct__cat_pipeline__cat_impute__add_indicator', 'ct__cat_pipeline__cat_impute__copy', 'ct__cat_pipeline__cat_impute__fill_value', 'ct__cat_pipeline__cat_impute__missing_values', 'ct__cat_pipeline__cat_impute__strategy', 'ct__cat_pipeline__cat_impute__verbose', 'ct__cat_pipeline__ohe__categories', 'ct__cat_pipeline__ohe__drop', 'ct__cat_pipeline__ohe__dtype', 'ct__cat_pipeline__ohe__handle_unknown', 'ct__cat_pipeline__ohe__sparse', 'log_reg__C', 'log_reg__class_weight', 'log_reg__dual', 'log_reg__fit_intercept', 'log_reg__intercept_scaling', 'log_reg__l1_ratio', 'log_reg__max_iter', 'log_reg__multi_class', 'log_reg__n_jobs', 'log_reg__penalty', 'log_reg__random_state', 'log_reg__solver', 'log_reg__tol', 'log_reg__verbose', 'log_reg__warm_start'])"
      ]
     },
     "execution_count": 21,
     "metadata": {},
     "output_type": "execute_result"
    }
   ],
   "source": [
    "# get params\n",
    "\n",
    "log_reg_fsm.get_params().keys()"
   ]
  },
  {
   "cell_type": "code",
   "execution_count": null,
   "metadata": {},
   "outputs": [],
   "source": []
  },
  {
   "cell_type": "code",
   "execution_count": 22,
   "metadata": {},
   "outputs": [],
   "source": [
    "#parameter grid\n",
    "\n",
    "param_grid = {\n",
    "#    'log_reg__C': [0, 1, 10],\n",
    "#    'log_reg__solver': ['newton-cg', 'lbfgs', 'liblinear', 'sag', 'saga'],\n",
    "#    'log_reg__penalty': ['l1', 'l2'],\n",
    "#    'log_reg__class_weight': [None, 'balanced'],\n",
    "#    'log_reg__max_iter': [100, 200, 300],\n",
    "#    'ct__num_pipeline__num_impute__strategy': ['mean', 'median', 'most_frequent', 'constant']\n",
    "}"
   ]
  },
  {
   "cell_type": "code",
   "execution_count": 23,
   "metadata": {},
   "outputs": [],
   "source": [
    "#creating gridsearch\n",
    "\n",
    "gridsearch = GridSearchCV(log_reg_fsm, param_grid, cv = 5, verbose = 1, n_jobs = -1)"
   ]
  },
  {
   "cell_type": "code",
   "execution_count": 24,
   "metadata": {
    "scrolled": true
   },
   "outputs": [
    {
     "name": "stdout",
     "output_type": "stream",
     "text": [
      "Fitting 5 folds for each of 1 candidates, totalling 5 fits\n"
     ]
    },
    {
     "name": "stderr",
     "output_type": "stream",
     "text": [
      "[Parallel(n_jobs=-1)]: Using backend LokyBackend with 8 concurrent workers.\n",
      "[Parallel(n_jobs=-1)]: Done   2 out of   5 | elapsed:    7.4s remaining:   11.1s\n",
      "[Parallel(n_jobs=-1)]: Done   5 out of   5 | elapsed:    7.9s finished\n",
      "/Users/kaceyclougher/anaconda3/envs/learn-env/lib/python3.8/site-packages/sklearn/linear_model/_logistic.py:762: ConvergenceWarning: lbfgs failed to converge (status=1):\n",
      "STOP: TOTAL NO. of ITERATIONS REACHED LIMIT.\n",
      "\n",
      "Increase the number of iterations (max_iter) or scale the data as shown in:\n",
      "    https://scikit-learn.org/stable/modules/preprocessing.html\n",
      "Please also refer to the documentation for alternative solver options:\n",
      "    https://scikit-learn.org/stable/modules/linear_model.html#logistic-regression\n",
      "  n_iter_i = _check_optimize_result(\n"
     ]
    },
    {
     "data": {
      "text/plain": [
       "GridSearchCV(cv=5,\n",
       "             estimator=Pipeline(steps=[('ct',\n",
       "                                        ColumnTransformer(transformers=[('num_pipeline',\n",
       "                                                                         Pipeline(steps=[('num_impute',\n",
       "                                                                                          SimpleImputer(strategy='most_frequent')),\n",
       "                                                                                         ('ss',\n",
       "                                                                                          StandardScaler())]),\n",
       "                                                                         ['amount_tsh',\n",
       "                                                                          'population',\n",
       "                                                                          'Age']),\n",
       "                                                                        ('cat_pipeline',\n",
       "                                                                         Pipeline(steps=[('cat_impute',\n",
       "                                                                                          SimpleImputer(strategy='most_frequent')),\n",
       "                                                                                         ('ohe',\n",
       "                                                                                          OneHotEncoder(handle_unknown='ignore'))]),\n",
       "                                                                         ['basin',\n",
       "                                                                          'subvillage',\n",
       "                                                                          'region',\n",
       "                                                                          'public_meeting',\n",
       "                                                                          'permit',\n",
       "                                                                          'extraction_type_class',\n",
       "                                                                          'management',\n",
       "                                                                          'payment_type',\n",
       "                                                                          'quality_group',\n",
       "                                                                          'quantity',\n",
       "                                                                          'source',\n",
       "                                                                          'waterpoint_type'])])),\n",
       "                                       ('log_reg', LogisticRegression())]),\n",
       "             n_jobs=-1, param_grid={}, verbose=1)"
      ]
     },
     "execution_count": 24,
     "metadata": {},
     "output_type": "execute_result"
    }
   ],
   "source": [
    "# fitting gridsearch\n",
    "\n",
    "## Takes approx 6 hours\n",
    "gridsearch.fit(X_train, y_train)"
   ]
  },
  {
   "cell_type": "code",
   "execution_count": 29,
   "metadata": {},
   "outputs": [],
   "source": [
    "#best params and model\n",
    "\n",
    "best_params = gridsearch.best_params_\n",
    "best_model = gridsearch.best_estimator_"
   ]
  },
  {
   "cell_type": "code",
   "execution_count": 30,
   "metadata": {},
   "outputs": [
    {
     "name": "stdout",
     "output_type": "stream",
     "text": [
      "Best Parameters: {}\n",
      "Accuracy of the Best Model: 0.7479461279461279\n"
     ]
    }
   ],
   "source": [
    "#print results\n",
    "\n",
    "accuracy = best_model.score(X_test, y_test)\n",
    "\n",
    "print(\"Best Parameters:\", best_params)\n",
    "print(\"Accuracy of the Best Model:\", accuracy)"
   ]
  },
  {
   "cell_type": "code",
   "execution_count": null,
   "metadata": {},
   "outputs": [],
   "source": []
  },
  {
   "cell_type": "markdown",
   "metadata": {},
   "source": [
    "## 6. Final Logistic Regression Model"
   ]
  },
  {
   "cell_type": "code",
   "execution_count": 46,
   "metadata": {},
   "outputs": [],
   "source": [
    "model = Pipeline([\n",
    "    ('ct', CT),\n",
    "#    ('smote', SMOTE(random_state = 42)),\n",
    "    ('log_reg', LogisticRegression(solver = 'newton-cg', C = 1, class_weight = None, max_iter = 300, penalty = 'l2',\n",
    "                                 multi_class = 'multinomial'))\n",
    "])\n"
   ]
  },
  {
   "cell_type": "code",
   "execution_count": 33,
   "metadata": {},
   "outputs": [
    {
     "data": {
      "text/plain": [
       "{'fit_time': array([9.07634306, 9.62411904, 8.58611894, 8.11386919, 9.06961608]),\n",
       " 'score_time': array([0.0429101 , 0.04492497, 0.04667902, 0.04566908, 0.0486939 ]),\n",
       " 'test_score': array([0.75723906, 0.75308642, 0.75319865, 0.75140292, 0.74298541]),\n",
       " 'train_score': array([0.8270202 , 0.82766554, 0.82901235, 0.82979798, 0.82974186])}"
      ]
     },
     "execution_count": 33,
     "metadata": {},
     "output_type": "execute_result"
    }
   ],
   "source": [
    "#cross validate\n",
    "\n",
    "cross_validate(model, X_train, y_train, return_train_score = True)"
   ]
  },
  {
   "cell_type": "code",
   "execution_count": 34,
   "metadata": {},
   "outputs": [
    {
     "data": {
      "text/plain": [
       "Pipeline(steps=[('ct',\n",
       "                 ColumnTransformer(transformers=[('num_pipeline',\n",
       "                                                  Pipeline(steps=[('num_impute',\n",
       "                                                                   SimpleImputer(strategy='most_frequent')),\n",
       "                                                                  ('ss',\n",
       "                                                                   StandardScaler())]),\n",
       "                                                  ['amount_tsh', 'population',\n",
       "                                                   'Age']),\n",
       "                                                 ('cat_pipeline',\n",
       "                                                  Pipeline(steps=[('cat_impute',\n",
       "                                                                   SimpleImputer(strategy='most_frequent')),\n",
       "                                                                  ('ohe',\n",
       "                                                                   OneHotEncoder(handle_unknown='ignore'))]),\n",
       "                                                  ['basin', 'subvillage',\n",
       "                                                   'region', 'public_meeting',\n",
       "                                                   'permit',\n",
       "                                                   'extraction_type_class',\n",
       "                                                   'management', 'payment_type',\n",
       "                                                   'quality_group', 'quantity',\n",
       "                                                   'source',\n",
       "                                                   'waterpoint_type'])])),\n",
       "                ('log_reg',\n",
       "                 LogisticRegression(C=1, max_iter=300,\n",
       "                                    multi_class='multinomial',\n",
       "                                    solver='newton-cg'))])"
      ]
     },
     "execution_count": 34,
     "metadata": {},
     "output_type": "execute_result"
    }
   ],
   "source": [
    "#fit model\n",
    "\n",
    "model.fit(X_train,y_train)\n"
   ]
  },
  {
   "cell_type": "code",
   "execution_count": 35,
   "metadata": {},
   "outputs": [
    {
     "data": {
      "text/plain": [
       "0.8268237934904602"
      ]
     },
     "execution_count": 35,
     "metadata": {},
     "output_type": "execute_result"
    }
   ],
   "source": [
    "# score\n",
    "\n",
    "model.score(X_train, y_train)"
   ]
  },
  {
   "cell_type": "code",
   "execution_count": 36,
   "metadata": {},
   "outputs": [
    {
     "name": "stdout",
     "output_type": "stream",
     "text": [
      "\n",
      "    Train Accuracy Score: 0.8268 \n",
      "    Test Accuracy Score: 0.7512\n",
      "    \n",
      "    Train Precision Score: 0.8293\n",
      "    Test Precision Score: 0.7435 \n",
      "    \n",
      "    Train Recall Score: 0.8268\n",
      "    Test Recall Score: 0.7512 \n",
      "    \n",
      "    Train F1 Score: 0.8141\n",
      "    Test F1 Score: 0.7337 \n",
      "    \n",
      "    Confusion Matrix:\n"
     ]
    },
    {
     "data": {
      "image/png": "[encoded data removed]",
      "text/plain": [
       "<Figure size 1440x864 with 2 Axes>"
      ]
     },
     "metadata": {},
     "output_type": "display_data"
    }
   ],
   "source": [
    "# eval -- run model\n",
    "\n",
    "eval(model, X_train, y_train, X_test, y_test)"
   ]
  },
  {
   "cell_type": "code",
   "execution_count": 37,
   "metadata": {},
   "outputs": [],
   "source": [
    "#Accuracy Score: 75.51% of the instances in the test set were correctly classified!\n",
    "\n",
    "#Precision Score: 74.74% - among instances predicted as positive in the test set, 74.27% were actually positive!\n",
    "\n",
    "#Recall Score: 75516% of the actual positive instances in the test set were correctly identified by the model! (great)\n",
    "\n",
    "#F1 Score: 73.7% - F1 score in the test set balances precision and recall"
   ]
  },
  {
   "cell_type": "code",
   "execution_count": null,
   "metadata": {},
   "outputs": [],
   "source": []
  },
  {
   "cell_type": "code",
   "execution_count": 40,
   "metadata": {},
   "outputs": [
    {
     "name": "stdout",
     "output_type": "stream",
     "text": [
      "Log Loss: 0.45413421767932494\n"
     ]
    }
   ],
   "source": [
    "#log loss\n",
    "\n",
    "ll = log_loss(y_train, model.predict_proba(X_train))\n",
    "print(\"Log Loss:\", ll)"
   ]
  },
  {
   "cell_type": "code",
   "execution_count": 41,
   "metadata": {},
   "outputs": [],
   "source": [
    "#low log loss indicates probabilities are closer to the truwe class labels"
   ]
  },
  {
   "cell_type": "code",
   "execution_count": null,
   "metadata": {},
   "outputs": [],
   "source": []
  },
  {
   "cell_type": "code",
   "execution_count": null,
   "metadata": {},
   "outputs": [],
   "source": []
  },
  {
   "cell_type": "code",
   "execution_count": null,
   "metadata": {},
   "outputs": [],
   "source": []
  }
 ],
 "metadata": {
  "kernelspec": {
   "display_name": "Python (learn-env)",
   "language": "python",
   "name": "learn-env"
  },
  "language_info": {
   "codemirror_mode": {
    "name": "ipython",
    "version": 3
   },
   "file_extension": ".py",
   "mimetype": "text/x-python",
   "name": "python",
   "nbconvert_exporter": "python",
   "pygments_lexer": "ipython3",
   "version": "3.8.5"
  }
 },
 "nbformat": 4,
 "nbformat_minor": 4
}
